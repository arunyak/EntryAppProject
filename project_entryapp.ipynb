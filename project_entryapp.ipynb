{
 "cells": [
  {
   "cell_type": "code",
   "execution_count": 6,
   "id": "cd1016cd",
   "metadata": {},
   "outputs": [
    {
     "name": "stdout",
     "output_type": "stream",
     "text": [
      "<class 'pandas.core.frame.DataFrame'>\n",
      "RangeIndex: 1000 entries, 0 to 999\n",
      "Data columns (total 3 columns):\n",
      " #   Column                  Non-Null Count  Dtype \n",
      "---  ------                  --------------  ----- \n",
      " 0   user_uid                1000 non-null   int64 \n",
      " 1   date_joined             1000 non-null   object\n",
      " 2   date_of_first_purhcase  576 non-null    object\n",
      "dtypes: int64(1), object(2)\n",
      "memory usage: 23.6+ KB\n",
      "<class 'pandas.core.frame.DataFrame'>\n",
      "RangeIndex: 1000 entries, 0 to 999\n",
      "Data columns (total 3 columns):\n",
      " #   Column                  Non-Null Count  Dtype         \n",
      "---  ------                  --------------  -----         \n",
      " 0   user_uid                1000 non-null   int64         \n",
      " 1   date_joined             1000 non-null   datetime64[ns]\n",
      " 2   date_of_first_purhcase  576 non-null    datetime64[ns]\n",
      "dtypes: datetime64[ns](2), int64(1)\n",
      "memory usage: 23.6 KB\n",
      "     user_uid date_joined date_of_first_purhcase            purachse_flag\n",
      "0           6  2021-06-04             2021-06-04  Purchased within a week\n",
      "1         608  2021-06-04                    NaT        Not purchased yet\n",
      "2         635  2021-06-04                    NaT        Not purchased yet\n",
      "3         745  2021-06-04                    NaT        Not purchased yet\n",
      "4        1506  2021-06-04                    NaT        Not purchased yet\n",
      "..        ...         ...                    ...                      ...\n",
      "995    403080  2021-08-02             2021-08-03  Purchased within a week\n",
      "996    403486  2021-08-02                    NaT        Not purchased yet\n",
      "997    404095  2021-08-02             2021-08-01  Purchased within a week\n",
      "998    404277  2021-08-02             2021-08-02  Purchased within a week\n",
      "999    404290  2021-08-02                    NaT        Not purchased yet\n",
      "\n",
      "[1000 rows x 4 columns]\n",
      "Purchased within a week    478\n",
      "Not purchased yet          424\n",
      "Purchased after a week      98\n",
      "Name: purachse_flag, dtype: int64\n",
      "                         user_uid  date_joined  date_of_first_purhcase\n",
      "purachse_flag                                                         \n",
      "Not purchased yet             424          424                       0\n",
      "Purchased after a week         98           98                      98\n",
      "Purchased within a week       478          478                     478\n"
     ]
    },
    {
     "data": {
      "image/png": "[encoded data removed]",
      "text/plain": [
       "<Figure size 432x288 with 1 Axes>"
      ]
     },
     "metadata": {},
     "output_type": "display_data"
    }
   ],
   "source": [
    "import pandas as pd\n",
    "import numpy as np\n",
    "import datetime\n",
    "import matplotlib.pyplot as plt\n",
    "\n",
    "User_purchase=pd.read_csv('user_purchase_data.csv')\n",
    "User_purchase.info()\n",
    "User_purchase['date_joined'] = pd.to_datetime(User_purchase['date_joined'])\n",
    "User_purchase['date_of_first_purhcase'] = pd.to_datetime(User_purchase['date_of_first_purhcase'])\n",
    "User_purchase.info()\n",
    "\n",
    "User_purchase['purachse_flag'] = np.where(User_purchase['date_of_first_purhcase'].isnull(),'Not purchased yet', \\\n",
    "                                          np.where(User_purchase['date_joined']-datetime.timedelta(days = -7) > User_purchase['date_of_first_purhcase'],\\\n",
    "                                                   'Purchased within a week','Purchased after a week'))\n",
    "print (User_purchase)\n",
    "\n",
    "count = User_purchase['purachse_flag'].value_counts()\n",
    "print(count)\n",
    "\n",
    "freqdf = User_purchase.groupby(['purachse_flag']).count()\n",
    "print(freqdf)\n",
    "\n",
    "mylabels = freqdf.index\n",
    "plt.pie(freqdf['user_uid'], labels = mylabels,autopct='%1.2f%%')\n",
    "#plt.legend()\n",
    "plt.show()"
   ]
  },
  {
   "cell_type": "code",
   "execution_count": 21,
   "id": "cbe71be5",
   "metadata": {
    "scrolled": false
   },
   "outputs": [
    {
     "name": "stdout",
     "output_type": "stream",
     "text": [
      "      user_id        track_slug subscription_date\n",
      "0           6        kerala-psc        2021-06-04\n",
      "1           6              KTET        2021-06-04\n",
      "2         608    spoken-english        2021-06-04\n",
      "3         608             APPSC        2021-06-04\n",
      "4         608     Eng_With_Awal        2021-06-04\n",
      "...       ...               ...               ...\n",
      "1573   403080        kerala-psc        2021-08-02\n",
      "1574   403486    spoken-english        2021-08-02\n",
      "1575   404095  Spoken_eng_hindi        2021-08-02\n",
      "1576   404277  Spoken_eng_hindi        2021-08-02\n",
      "1577   404290    spoken-english        2021-08-02\n",
      "\n",
      "[1578 rows x 3 columns]\n",
      "      user_uid        track_slug subscription_date\n",
      "0            6        kerala-psc        2021-06-04\n",
      "1            6              KTET        2021-06-04\n",
      "2          608    spoken-english        2021-06-04\n",
      "3          608             APPSC        2021-06-04\n",
      "4          608     Eng_With_Awal        2021-06-04\n",
      "...        ...               ...               ...\n",
      "1573    403080        kerala-psc        2021-08-02\n",
      "1574    403486    spoken-english        2021-08-02\n",
      "1575    404095  Spoken_eng_hindi        2021-08-02\n",
      "1576    404277  Spoken_eng_hindi        2021-08-02\n",
      "1577    404290    spoken-english        2021-08-02\n",
      "\n",
      "[1578 rows x 3 columns]\n"
     ]
    }
   ],
   "source": [
    "User_subscribe=pd.read_csv('track_subscription_data.csv')\n",
    "print(User_subscribe)\n",
    "User_subscribe = User_subscribe.rename(columns={'user_id': 'user_uid'})\n",
    "print(User_subscribe)"
   ]
  },
  {
   "cell_type": "code",
   "execution_count": 30,
   "id": "f34541a6",
   "metadata": {},
   "outputs": [
    {
     "name": "stdout",
     "output_type": "stream",
     "text": [
      "user_uid                  1616\n",
      "date_joined               1616\n",
      "date_of_first_purhcase    1096\n",
      "purachse_flag             1616\n",
      "track_slug                1578\n",
      "subscription_date         1578\n",
      "dtype: int64\n"
     ]
    }
   ],
   "source": [
    "purch_subs_combined = pd.merge(\n",
    "    left=User_purchase,\n",
    "    right=User_subscribe,\n",
    "    how=\"outer\",\n",
    "    on=\"user_uid\")\n",
    "print(purch_subs_combined.count())"
   ]
  },
  {
   "cell_type": "code",
   "execution_count": 65,
   "id": "a796657b",
   "metadata": {},
   "outputs": [
    {
     "name": "stdout",
     "output_type": "stream",
     "text": [
      "Purchased within a week    900\n",
      "Not purchased yet          520\n",
      "Purchased after a week     196\n",
      "Name: purachse_flag, dtype: int64\n",
      "Spoken_eng_hindi     284\n",
      "spoken-english       213\n",
      "kerala-psc           163\n",
      "BANK-INS              64\n",
      "ssc                   57\n",
      "                    ... \n",
      "I_S_T                  1\n",
      "JEE                    1\n",
      "NEET                   1\n",
      "SDQ                    1\n",
      "YourStory_Academy      1\n",
      "Name: track_slug, Length: 66, dtype: int64\n"
     ]
    }
   ],
   "source": [
    "count_purch_flag = purch_subs_combined['purachse_flag'].value_counts()\n",
    "print(count_purch_flag)\n",
    "\n",
    "count_track_slug = purch_subs_combined['track_slug'].value_counts()\n",
    "print(count_track_slug)"
   ]
  },
  {
   "cell_type": "code",
   "execution_count": 63,
   "id": "1444f61c",
   "metadata": {},
   "outputs": [
    {
     "name": "stdout",
     "output_type": "stream",
     "text": [
      "user_uid                  1096\n",
      "date_joined               1096\n",
      "date_of_first_purhcase    1096\n",
      "purachse_flag             1096\n",
      "track_slug                1096\n",
      "subscription_date         1096\n",
      "dtype: int64\n",
      "576\n",
      "1096\n",
      "Average number of subscriptions per purchased user = 1.9027777777777777\n"
     ]
    }
   ],
   "source": [
    "purch_subs_final = purch_subs_combined[(purch_subs_combined['track_slug'].notnull()) & (purch_subs_combined['purachse_flag'] != 'Not purchased yet')]\n",
    "print(purch_subs_final.count())\n",
    "distinct_cnt = len(pd.unique(purch_subs_final['user_uid']))\n",
    "tot_count = purch_subs_final['user_uid'].count()\n",
    "print(distinct_cnt)\n",
    "print(tot_count)\n",
    "avg = tot_count/distinct_cnt\n",
    "print('Average number of subscriptions per purchased user = '+str(avg))"
   ]
  },
  {
   "cell_type": "code",
   "execution_count": null,
   "id": "137c54ec",
   "metadata": {},
   "outputs": [],
   "source": []
  },
  {
   "cell_type": "code",
   "execution_count": null,
   "id": "db632df3",
   "metadata": {},
   "outputs": [],
   "source": []
  }
 ],
 "metadata": {
  "kernelspec": {
   "display_name": "Python 3 (ipykernel)",
   "language": "python",
   "name": "python3"
  },
  "language_info": {
   "codemirror_mode": {
    "name": "ipython",
    "version": 3
   },
   "file_extension": ".py",
   "mimetype": "text/x-python",
   "name": "python",
   "nbconvert_exporter": "python",
   "pygments_lexer": "ipython3",
   "version": "3.10.2"
  }
 },
 "nbformat": 4,
 "nbformat_minor": 5
}
